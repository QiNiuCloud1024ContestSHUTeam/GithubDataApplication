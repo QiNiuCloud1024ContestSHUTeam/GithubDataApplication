{
 "cells": [
  {
   "cell_type": "code",
   "execution_count": 1,
   "id": "initial_id",
   "metadata": {
    "collapsed": true,
    "ExecuteTime": {
     "end_time": "2024-10-31T03:44:45.564503600Z",
     "start_time": "2024-10-31T03:44:45.191806600Z"
    }
   },
   "outputs": [],
   "source": [
    "import time\n",
    "from urllib.request import urlopen\n",
    "from urllib.request import Request\n",
    "import json\n",
    "import requests\n",
    "import os\n",
    "import re"
   ]
  },
  {
   "cell_type": "code",
   "outputs": [],
   "source": [
    "# 请求头\n",
    "headers = {\n",
    "    'Cookie': '_octo=GH1.1.547050398.1730121222; _device_id=73a715dea9188e9052280e9ba8f00a3d; saved_user_sessions=124904356%3AFGDwEe-yLWPAB9iCFsxyTgm-Ij8frauGVZNDils0DyQ_FDi4; user_session=FGDwEe-yLWPAB9iCFsxyTgm-Ij8frauGVZNDils0DyQ_FDi4; __Host-user_session_same_site=FGDwEe-yLWPAB9iCFsxyTgm-Ij8frauGVZNDils0DyQ_FDi4; logged_in=yes; dotcom_user=yizhilsy; color_mode=%7B%22color_mode%22%3A%22auto%22%2C%22light_theme%22%3A%7B%22name%22%3A%22light%22%2C%22color_mode%22%3A%22light%22%7D%2C%22dark_theme%22%3A%7B%22name%22%3A%22dark%22%2C%22color_mode%22%3A%22dark%22%7D%7D; preferred_color_mode=light; tz=Asia%2FShanghai; _gh_sess=wgcGGu1teQcioqHPiWBCx0tVV%2BgI4OSl5S1WSmwI4%2BLlrg7DS2GFaw1Z%2BTJRYq4SKGHp%2Fm4b9ZkIfhQqgACyapyAa8XZtdkOIGF%2Fkk%2BTwIj9ibdWec5%2B8oofaPsQipgRe7Jmfv3LPdqazTY%2BxAj8IujwSpfd%2BSaJqI3QPiZucUbs%2FYPRwWQfcz7qWrb0%2Ftzbd0eeLfAQg75s1uxusz67iprHm%2Fl0rFU6ZOrzMB1Gl4uVPDXP%2FkOwpiCLFvgWUaKEgTAEy2C4T%2BMTFL285JZ1cDY1rM0TPhOkU89zIezfnw6YflOnC%2FE%2FhgRne3QOWKI1mAvd%2BleJNC3EE0nVhVZwC5I%2FQw0%2BuJGikotXbvSc0MWRrHsaD1Nen3gR6WAchiW6--2m9XRat%2B2oaDceNY--FmGSxVluLBuvzl1Y7CQe5A%3D%3D',\n",
    "    'Sec-Ch-Ua-Platform': '\"Windows\"',\n",
    "    'X-Requested-With': 'XMLHttpRequest',\n",
    "    'Accept-Language': 'zh-CN,zh;q=0.9',\n",
    "    'Accept': 'text/html',\n",
    "    'Sec-Ch-Ua': '\"Not?A_Brand\";v=\"99\", \"Chromium\";v=\"130\"',\n",
    "    'User-Agent': 'Mozilla/5.0 (Windows NT 10.0; Win64; x64) AppleWebKit/537.36 (KHTML, like Gecko) Chrome/130.0.6723.59 Safari/537.36',\n",
    "    'Sec-Ch-Ua-Mobile': '?0',\n",
    "    'Sec-Fetch-Site': 'same-origin',\n",
    "    'Sec-Fetch-Mode': 'cors',\n",
    "    'Sec-Fetch-Dest': 'empty',\n",
    "    'Referer': 'https://github.com/topics',\n",
    "    'Accept-Encoding': 'gzip, deflate, br'\n",
    "}\n",
    "def get_Topics(page):\n",
    "    # URL\n",
    "    url = 'https://github.com/topics?page={page}'.format(page = page)\n",
    "    response = requests.get(url, headers=headers)\n",
    "    # 检查请求是否成功\n",
    "    if response.status_code == 200:\n",
    "        return response.text    # 返回 HTML 内容\n",
    "    else:\n",
    "        print(f\"请求失败，状态码：{response.status_code}\")\n",
    "        return None"
   ],
   "metadata": {
    "collapsed": false,
    "ExecuteTime": {
     "end_time": "2024-10-31T03:44:45.565508Z",
     "start_time": "2024-10-31T03:44:45.563450200Z"
    }
   },
   "id": "f3a22b3052520af2",
   "execution_count": 2
  },
  {
   "cell_type": "code",
   "outputs": [],
   "source": [
    "# 获取所有官方topic的html文件（6页page）\n",
    "for page in range(1, 7):\n",
    "    topic_html = get_Topics(page)\n",
    "    with open(\"./topicPages/topics_page_{}.html\".format(page), \"w\", encoding=\"utf-8\") as f:\n",
    "        f.write(topic_html)"
   ],
   "metadata": {
    "collapsed": false,
    "ExecuteTime": {
     "end_time": "2024-10-31T03:44:52.859163400Z",
     "start_time": "2024-10-31T03:44:45.566508300Z"
    }
   },
   "id": "d723293faa1998a8",
   "execution_count": 3
  },
  {
   "cell_type": "code",
   "outputs": [
    {
     "name": "stdout",
     "output_type": "stream",
     "text": [
      "166\n"
     ]
    }
   ],
   "source": [
    "# 读取爬取的html文件分割出官方topic字符串存入文件中\n",
    "# 设置文件目录\n",
    "directory = \"./topicPages/\"\n",
    "# 正则表达式模式\n",
    "pattern = r'<p class=\"f3 lh-condensed mb-0 mt-1 Link--primary\">(.*?)</p>'\n",
    "topics_list = []\n",
    "for page in range(1, 7):\n",
    "    filename = f\"topics_page_{page}.html\"\n",
    "    filepath = os.path.join(directory, filename)\n",
    "    with open(filepath, \"r\", encoding=\"utf-8\") as f:\n",
    "        content = f.read()\n",
    "        # 查找所有匹配的字符串\n",
    "        matches = re.findall(pattern, content)\n",
    "        if matches:\n",
    "            for match in matches:\n",
    "                topics_list.append(match)\n",
    "# 写入文件\n",
    "with open(\"./topicPages/govTopics.txt\", \"a\", encoding=\"utf-8\") as f:\n",
    "    count = 1\n",
    "    for topic in topics_list:\n",
    "        f.write(str(count) + \":\" + topic + \"\\n\")\n",
    "        count = count + 1\n",
    "print(count-1)"
   ],
   "metadata": {
    "collapsed": false,
    "ExecuteTime": {
     "end_time": "2024-10-31T04:07:58.676074500Z",
     "start_time": "2024-10-31T04:07:58.660946300Z"
    }
   },
   "id": "7f76e7954265024c",
   "execution_count": 5
  },
  {
   "cell_type": "code",
   "outputs": [],
   "source": [],
   "metadata": {
    "collapsed": false
   },
   "id": "674f7588adaa9fac"
  }
 ],
 "metadata": {
  "kernelspec": {
   "display_name": "Python 3",
   "language": "python",
   "name": "python3"
  },
  "language_info": {
   "codemirror_mode": {
    "name": "ipython",
    "version": 2
   },
   "file_extension": ".py",
   "mimetype": "text/x-python",
   "name": "python",
   "nbconvert_exporter": "python",
   "pygments_lexer": "ipython2",
   "version": "2.7.6"
  }
 },
 "nbformat": 4,
 "nbformat_minor": 5
}
